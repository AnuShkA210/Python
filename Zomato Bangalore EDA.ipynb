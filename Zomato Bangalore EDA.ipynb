# %% [markdown]
# # Analysis of  Zomato Bangalore Restaurant dataset
# 

# %% [markdown]
# 
# Loading the dataset: Load the data and import the libraries.
# 
# Data Cleaning:
# Deleting redundant columns.
# 
# Renaming the columns.
# 
# Dropping duplicates.
# 
# Cleaning individual columns.
# 
# Remove the NaN values from the dataset
# 
# Some Transformations
# 
# Data Visualization 
# 

# %%
#importing Required library 
import pandas as pd
import numpy as np
import seaborn as sns
import matplotlib.pyplot as plt

%matplotlib inline

# %%
#importing plotly Library
from plotly.offline import iplot
import plotly as py
import plotly.tools as tls
import cufflinks as cf
py.offline.init_notebook_mode(connected=True) #Turning on notebook mode 
cf.go_offline()

# %%
#importing the datase

df=pd.read_csv(r"zomato.csv")
df.head()

# %%
df.shape

# %%
df.info()

# %%
del df["url"]
del df["address"]
del df["phone"]

# %%
# Duplicates values
df.duplicated().sum()

# %%
df.drop_duplicates(inplace=True)

# %%
#checking the NaN values
df.isnull().sum()

# %%
sns.heatmap(df.isnull(), cbar=False)

# %%
del df["dish_liked"]

# %%
df.dropna(how='any',inplace=True)
 

# %%
#checking the NaN values
df.isnull().sum()


# %%
sns.heatmap(df.isnull(), cbar=False)

# %%
#Reading Column Names
df.columns

# %%
#Changing the column names
df = df.rename(columns={'approx_cost(for two people)':'cost','listed_in(type)':'type',
                                  'listed_in(city)':'city'})
df.columns

# %%
df.head()

# %%
df.cost.unique()

# %%
print(type(df['cost'])) # = df['cost'].astype(float)

# %%
#Some Transformations
df['cost'] = df['cost'].astype(str) #Changing the cost to string
df['cost'] = df['cost'].apply(lambda x: x.replace(',','')) #Using lambda function to replace ',' from cost
df['cost'] = df['cost'].astype(float) # Changing the cost to Float
df.info() # looking at the dataset information after transformation


# %%
print(type(df['cost']))

# %%
df['rate'].unique()

# %%
#Removing '/5' from Rates
df = df.loc[df.rate !='NEW'] #Removed rows which were having "new"
df = df.loc[df.rate !='-'].reset_index(drop=True) #Removed rows which were having "-"
remove_slash = lambda x: x.replace('/5', '') if type(x) == np.str else x #Function 
df.rate = df.rate.apply(remove_slash).str.strip().astype('float')#apply function to col
df['rate'].head() # looking at the dataset after transformation

# %%
df.info()

# %%
df.online_order.value_counts().plot.pie(fontsize = 18, autopct = '%.2f')

# %%
df.book_table.value_counts().plot.pie(fontsize = 18, autopct = '%.2f')

# %%
cat_cols = ['online_order','book_table','type','city']
i=0
while i < 4:
    fig = plt.figure(figsize=[20,5])
    
    
    
    plt.subplot(1,2,1)
    sns.countplot(x=cat_cols[i], data=df)
    plt.xticks(rotation=45)
    i += 1
    
    
    plt.subplot(1,2,2)
    sns.countplot(x=cat_cols[i], data=df)
    plt.xticks(rotation=90)
    i += 1
    
    plt.show()

# %% [markdown]
# # Largest Food Chain in Bangalore 

# %%
df.name.value_counts().head(30).iplot(kind="bar")

# %% [markdown]
# # Most Popular Restaurant types 

# %%
df.rest_type.value_counts().head(30).iplot(kind="bar")

# %%
df.describe()

# %%


# %%
num_cols = ['cost','rate','votes','cost']
i=0
while i < 4:
    fig = plt.figure(figsize=[13,3])
    #ax1 = fig.add_subplot(121)
    #ax2 = fig.add_subplot(122)
    
    #ax1.title.set_text(num_cols[i])
    plt.subplot(1,2,1)
    sns.boxplot(x=num_cols[i], data=df)
    i += 1
    
    #ax2.title.set_text(num_cols[i])
    plt.subplot(1,2,2)
    sns.boxplot(x=num_cols[i], data=df)
    i += 1
    
    plt.show()

# %% [markdown]
# # Expensive Restaurants in Bangalore

# %%
#pd.set_option("display.max_rows", None, "display.max_columns", None)
df[df.cost>3000].sort_values(ascending=False,by="cost")

# %% [markdown]
# Expensive Restaurants Don't take online orders but table booking is Available.
# 
# Majority of Expensive Restaurants are having ratings above 4.

# %%
df[df.cost>3000].sort_values(ascending=False,by="cost")

# %%
x=df[df.cost>3000] 
x=x.sort_values(ascending=False,by="cost")
x=x.location.value_counts()

# %%
x.iplot(kind="bar")

# %% [markdown]
# # Where are most of the expensive Restaurants are located ?

# %%
df[df.cost>3000].sort_values(ascending=False,by="cost").location.value_counts().iplot(kind="bar")

# %% [markdown]
#  Majority of Expensive Restaurants are located in Residency Road

# %%

df[df.cost>3000].rest_type.value_counts().iplot(kind="bar")

# %% [markdown]
#  Majority of Expensive Restaurants are Fine Dining.

# %% [markdown]
# # Ratings by Type of Restaurants

# %%



# %%
rate_type=pd.crosstab(df['rate'],df['type'])
rate_type.iplot(kind="bar",barmode="stack")

# %%


# %%
rate_type

# %%
df.sort_values(ascending=False,by="votes").head(10)

# %% [markdown]
# # Restaurants per location

# %%
df["location"].value_counts().head(20).iplot(kind="bar")

# %%
plt.figure(figsize=(10,5))
sns.scatterplot(x="rate",y='cost',hue='online_order',data=df,style="book_table")
plt.show()

# %% [markdown]
# # Best Economical Restaurants 

# %%
df[(df["cost"]<=100) & (df["rate"]>=4)].sort_values(by=["rate"],ascending=False)

# %% [markdown]
# # Where are most of the best chepest  Restaurants are located ?

# %%
df[(df["cost"]<=100) & (df["rate"]>=4)].sort_values(by=["rate"],ascending=False).location.value_counts().iplot(kind="bar")

# %% [markdown]
# Best Cheap Restaurants are located at Basavangudi,jayanagar,malleshwaram & HSR

# %%
df["cost"].mean()

# %% [markdown]
# # Best Average cost Restaurants

# %%
df[(df["cost"]<=df["cost"].mean()) & (df["rate"]>=4) ].sort_values(by=["rate"],ascending=False)

# %%
df["cost"].mean()

# %% [markdown]
# # Popular cuisines in Bangalore 

# %%
df.cuisines.value_counts().sort_values(ascending = False).head(10).iplot(kind="bar")

# %% [markdown]
#  North indian ,Chinese & South indian are some of the popular cuisines in Bangalore

# %% [markdown]
# # Average Cost by Location

# %%
resbyloc=df.groupby("location")

# %%
resbyloc.mean()

# %%
resbyloc.mean().sort_values(by="cost").iplot(kind="bar",barmode="stack")

# %%


# %% [markdown]
# # Finding best Restaurants by Cost & Location

# %%
print(" Cost for 2 :")
res_cost=float(input(""))
print("Location : ")
res_loc=input("")
def top_rest(res_cost,res_loc):
    x=df[(df["cost"]<=res_cost) & (df["rate"]>=4) & (df["location"]==res_loc) ].sort_values(by=["rate"],ascending=False)
    return x
top_rest(res_cost,res_loc)


# %%


# %%



